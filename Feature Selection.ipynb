{
 "cells": [
  {
   "cell_type": "code",
   "execution_count": 2,
   "id": "79459c92",
   "metadata": {},
   "outputs": [
    {
     "data": {
      "text/html": [
       "<div>\n",
       "<style scoped>\n",
       "    .dataframe tbody tr th:only-of-type {\n",
       "        vertical-align: middle;\n",
       "    }\n",
       "\n",
       "    .dataframe tbody tr th {\n",
       "        vertical-align: top;\n",
       "    }\n",
       "\n",
       "    .dataframe thead th {\n",
       "        text-align: right;\n",
       "    }\n",
       "</style>\n",
       "<table border=\"1\" class=\"dataframe\">\n",
       "  <thead>\n",
       "    <tr style=\"text-align: right;\">\n",
       "      <th></th>\n",
       "      <th>preg</th>\n",
       "      <th>plas</th>\n",
       "      <th>pres</th>\n",
       "      <th>skin</th>\n",
       "      <th>test</th>\n",
       "      <th>mass</th>\n",
       "      <th>pedi</th>\n",
       "      <th>age</th>\n",
       "      <th>class</th>\n",
       "    </tr>\n",
       "  </thead>\n",
       "  <tbody>\n",
       "    <tr>\n",
       "      <th>0</th>\n",
       "      <td>6</td>\n",
       "      <td>148</td>\n",
       "      <td>72</td>\n",
       "      <td>35</td>\n",
       "      <td>0</td>\n",
       "      <td>33.6</td>\n",
       "      <td>0.627</td>\n",
       "      <td>50</td>\n",
       "      <td>1</td>\n",
       "    </tr>\n",
       "    <tr>\n",
       "      <th>1</th>\n",
       "      <td>1</td>\n",
       "      <td>85</td>\n",
       "      <td>66</td>\n",
       "      <td>29</td>\n",
       "      <td>0</td>\n",
       "      <td>26.6</td>\n",
       "      <td>0.351</td>\n",
       "      <td>31</td>\n",
       "      <td>0</td>\n",
       "    </tr>\n",
       "    <tr>\n",
       "      <th>2</th>\n",
       "      <td>8</td>\n",
       "      <td>183</td>\n",
       "      <td>64</td>\n",
       "      <td>0</td>\n",
       "      <td>0</td>\n",
       "      <td>23.3</td>\n",
       "      <td>0.672</td>\n",
       "      <td>32</td>\n",
       "      <td>1</td>\n",
       "    </tr>\n",
       "    <tr>\n",
       "      <th>3</th>\n",
       "      <td>1</td>\n",
       "      <td>89</td>\n",
       "      <td>66</td>\n",
       "      <td>23</td>\n",
       "      <td>94</td>\n",
       "      <td>28.1</td>\n",
       "      <td>0.167</td>\n",
       "      <td>21</td>\n",
       "      <td>0</td>\n",
       "    </tr>\n",
       "    <tr>\n",
       "      <th>4</th>\n",
       "      <td>0</td>\n",
       "      <td>137</td>\n",
       "      <td>40</td>\n",
       "      <td>35</td>\n",
       "      <td>168</td>\n",
       "      <td>43.1</td>\n",
       "      <td>2.288</td>\n",
       "      <td>33</td>\n",
       "      <td>1</td>\n",
       "    </tr>\n",
       "  </tbody>\n",
       "</table>\n",
       "</div>"
      ],
      "text/plain": [
       "   preg  plas  pres  skin  test  mass   pedi  age  class\n",
       "0     6   148    72    35     0  33.6  0.627   50      1\n",
       "1     1    85    66    29     0  26.6  0.351   31      0\n",
       "2     8   183    64     0     0  23.3  0.672   32      1\n",
       "3     1    89    66    23    94  28.1  0.167   21      0\n",
       "4     0   137    40    35   168  43.1  2.288   33      1"
      ]
     },
     "execution_count": 2,
     "metadata": {},
     "output_type": "execute_result"
    }
   ],
   "source": [
    "import pandas as pd\n",
    "import numpy as np\n",
    "data = 'https://raw.githubusercontent.com/jbrownlee/Datasets/master/pima-indians-diabetes.data.csv'\n",
    "features = ['preg', 'plas', 'pres', 'skin','test', 'mass', 'pedi', 'age', 'class']\n",
    "df = pd.read_csv(data, names = features)\n",
    "df.head()"
   ]
  },
  {
   "cell_type": "code",
   "execution_count": 3,
   "id": "be102c4b",
   "metadata": {},
   "outputs": [
    {
     "data": {
      "text/plain": [
       "(768, 9)"
      ]
     },
     "execution_count": 3,
     "metadata": {},
     "output_type": "execute_result"
    }
   ],
   "source": [
    "df.shape"
   ]
  },
  {
   "cell_type": "code",
   "execution_count": 9,
   "id": "71fe3944",
   "metadata": {
    "scrolled": true
   },
   "outputs": [],
   "source": [
    "## Preparing the Data\n",
    "data = df.values\n",
    "X = data[:,0:8]\n",
    "Y = data[:,8]"
   ]
  },
  {
   "cell_type": "code",
   "execution_count": 10,
   "id": "65f48bcd",
   "metadata": {},
   "outputs": [],
   "source": [
    "## Filter Method\n",
    "from sklearn.feature_selection import SelectKBest\n",
    "from sklearn.feature_selection import chi2"
   ]
  },
  {
   "cell_type": "code",
   "execution_count": 12,
   "id": "41af8e30",
   "metadata": {},
   "outputs": [
    {
     "name": "stdout",
     "output_type": "stream",
     "text": [
      "Summarize scores: \n",
      " [ 111.52  1411.887   17.605   53.108 2175.565  127.669    5.393  181.304]\n",
      "Summarize selected features: \n",
      " [[148.    0.   33.6  50. ]\n",
      " [ 85.    0.   26.6  31. ]\n",
      " [183.    0.   23.3  32. ]\n",
      " [ 89.   94.   28.1  21. ]\n",
      " [137.  168.   43.1  33. ]]\n"
     ]
    }
   ],
   "source": [
    "# Feature extraction\n",
    "chi_best = SelectKBest(score_func=chi2, k=4)\n",
    "k_best = chi_best.fit(X, Y)\n",
    "\n",
    "# Summarize scores\n",
    "np.set_printoptions(precision=3)\n",
    "print(\"Summarize scores: \\n\", k_best.scores_)\n",
    "\n",
    "k_features = k_best.transform(X)\n",
    "# Summarize selected features\n",
    "print(\"Summarize selected features: \\n\",k_features[0:5,:])"
   ]
  },
  {
   "cell_type": "markdown",
   "id": "01a7a5bd",
   "metadata": {},
   "source": [
    "# Wrapper Method\n",
    "\n",
    "### Recursive Feature Elimination (RFE)"
   ]
  },
  {
   "cell_type": "code",
   "execution_count": 13,
   "id": "7872ee39",
   "metadata": {},
   "outputs": [],
   "source": [
    "from sklearn.feature_selection import RFE\n",
    "from sklearn.linear_model import LogisticRegression\n",
    "import warnings\n",
    "warnings.filterwarnings('ignore')"
   ]
  },
  {
   "cell_type": "code",
   "execution_count": 15,
   "id": "0a1397ab",
   "metadata": {},
   "outputs": [
    {
     "name": "stdout",
     "output_type": "stream",
     "text": [
      "Number of Features: 3\n",
      "Selected Features are: [ True False False False False  True  True False]\n",
      "Feature Ranking is as follows: [1 2 4 5 6 1 1 3]\n"
     ]
    }
   ],
   "source": [
    "# Feature extraction\n",
    "model_lr = LogisticRegression()\n",
    "recur_fe = RFE(model_lr, n_features_to_select=3)\n",
    "Feature = recur_fe.fit(X, Y)\n",
    "print(\"Number of Features: %s\" % (Feature.n_features_))\n",
    "print(\"Selected Features are: %s\"%(Feature.support_))\n",
    "print(\"Feature Ranking is as follows: %s\"%(Feature.ranking_))"
   ]
  },
  {
   "cell_type": "markdown",
   "id": "ae120e7e",
   "metadata": {},
   "source": [
    "#### Ridge Regression / L2 Regularization"
   ]
  },
  {
   "cell_type": "code",
   "execution_count": 16,
   "id": "0280f723",
   "metadata": {},
   "outputs": [],
   "source": [
    "from sklearn.linear_model import Ridge"
   ]
  },
  {
   "cell_type": "code",
   "execution_count": 17,
   "id": "96816e6c",
   "metadata": {},
   "outputs": [
    {
     "data": {
      "text/plain": [
       "Ridge()"
      ]
     },
     "execution_count": 17,
     "metadata": {},
     "output_type": "execute_result"
    }
   ],
   "source": [
    "ridge_reg = Ridge(alpha=1.0)\n",
    "ridge_reg.fit(X,Y)"
   ]
  },
  {
   "cell_type": "code",
   "execution_count": 18,
   "id": "70c69abc",
   "metadata": {},
   "outputs": [],
   "source": [
    "# A helper function for printing the coefficients\n",
    "\n",
    "def print_coefs(coef, names = None, sort = False):\n",
    "    if names == None:\n",
    "        names = [\"X%s\" % x for x in range(len(coef))]\n",
    "    lst = zip(coef, names)\n",
    "    if sort:\n",
    "        lst = sorted(lst, key = lambda x: -np.abs(x[0]))\n",
    "    return \" + \".join(\"%s * %s\" % (round(coefs, 3), name) for  coefs, name in lst)"
   ]
  },
  {
   "cell_type": "code",
   "execution_count": 19,
   "id": "3fa26f85",
   "metadata": {},
   "outputs": [
    {
     "name": "stdout",
     "output_type": "stream",
     "text": [
      "Ridge model: 0.021 * X0 + 0.006 * X1 + -0.002 * X2 + 0.0 * X3 + -0.0 * X4 + 0.013 * X5 + 0.145 * X6 + 0.003 * X7\n"
     ]
    }
   ],
   "source": [
    "print(\"Ridge model:\", print_coefs(ridge_reg.coef_))"
   ]
  },
  {
   "cell_type": "markdown",
   "id": "dbb680af",
   "metadata": {},
   "source": [
    "### Feature Splitting in Feature Engineering"
   ]
  },
  {
   "cell_type": "code",
   "execution_count": 20,
   "id": "588218d5",
   "metadata": {},
   "outputs": [],
   "source": [
    "df = pd.read_csv('data/football_deaths.csv')"
   ]
  },
  {
   "cell_type": "code",
   "execution_count": 27,
   "id": "995a13e0",
   "metadata": {},
   "outputs": [
    {
     "data": {
      "text/html": [
       "<div>\n",
       "<style scoped>\n",
       "    .dataframe tbody tr th:only-of-type {\n",
       "        vertical-align: middle;\n",
       "    }\n",
       "\n",
       "    .dataframe tbody tr th {\n",
       "        vertical-align: top;\n",
       "    }\n",
       "\n",
       "    .dataframe thead th {\n",
       "        text-align: right;\n",
       "    }\n",
       "</style>\n",
       "<table border=\"1\" class=\"dataframe\">\n",
       "  <thead>\n",
       "    <tr style=\"text-align: right;\">\n",
       "      <th></th>\n",
       "      <th>row_id</th>\n",
       "      <th>incident_date</th>\n",
       "      <th>player_name</th>\n",
       "      <th>player_country</th>\n",
       "      <th>team_country</th>\n",
       "      <th>player_age</th>\n",
       "      <th>player_team_name</th>\n",
       "      <th>incident_description</th>\n",
       "      <th>heart_related</th>\n",
       "      <th>cardiac_related</th>\n",
       "      <th>collapsed</th>\n",
       "      <th>lightning</th>\n",
       "      <th>collision</th>\n",
       "    </tr>\n",
       "  </thead>\n",
       "  <tbody>\n",
       "    <tr>\n",
       "      <th>224</th>\n",
       "      <td>225</td>\n",
       "      <td>2021-09-04</td>\n",
       "      <td>Jens</td>\n",
       "      <td>Belgium</td>\n",
       "      <td>Netherlands</td>\n",
       "      <td>27.0</td>\n",
       "      <td>FCC Filosoof</td>\n",
       "      <td>Drama on Dutch football field, amateur player ...</td>\n",
       "      <td>0</td>\n",
       "      <td>0</td>\n",
       "      <td>1</td>\n",
       "      <td>0</td>\n",
       "      <td>0</td>\n",
       "    </tr>\n",
       "    <tr>\n",
       "      <th>225</th>\n",
       "      <td>226</td>\n",
       "      <td>2021-09-25</td>\n",
       "      <td>Guillermo</td>\n",
       "      <td>Venezuela</td>\n",
       "      <td>Venezuela</td>\n",
       "      <td>31.0</td>\n",
       "      <td>Camaguán FC</td>\n",
       "      <td>In the quarterfinals of the third division tou...</td>\n",
       "      <td>0</td>\n",
       "      <td>1</td>\n",
       "      <td>1</td>\n",
       "      <td>0</td>\n",
       "      <td>0</td>\n",
       "    </tr>\n",
       "    <tr>\n",
       "      <th>226</th>\n",
       "      <td>227</td>\n",
       "      <td>2021-10-01</td>\n",
       "      <td>Bruno</td>\n",
       "      <td>Germany</td>\n",
       "      <td>Germany</td>\n",
       "      <td>15.0</td>\n",
       "      <td>FC An der Fahner Höhe</td>\n",
       "      <td>Young goalkeeper and amateur angler Bruno Stei...</td>\n",
       "      <td>0</td>\n",
       "      <td>0</td>\n",
       "      <td>0</td>\n",
       "      <td>0</td>\n",
       "      <td>0</td>\n",
       "    </tr>\n",
       "    <tr>\n",
       "      <th>227</th>\n",
       "      <td>228</td>\n",
       "      <td>2021-10-08</td>\n",
       "      <td>Benoît</td>\n",
       "      <td>France</td>\n",
       "      <td>France</td>\n",
       "      <td>49.0</td>\n",
       "      <td>SC Massay</td>\n",
       "      <td>With  minutes to go before the end of the game...</td>\n",
       "      <td>0</td>\n",
       "      <td>0</td>\n",
       "      <td>1</td>\n",
       "      <td>0</td>\n",
       "      <td>0</td>\n",
       "    </tr>\n",
       "    <tr>\n",
       "      <th>228</th>\n",
       "      <td>229</td>\n",
       "      <td>2021-10-15</td>\n",
       "      <td>Christophe</td>\n",
       "      <td>France</td>\n",
       "      <td>France</td>\n",
       "      <td>54.0</td>\n",
       "      <td>AS Saint Yves</td>\n",
       "      <td>Christophe Ramassamy, a -year-old footballer, ...</td>\n",
       "      <td>1</td>\n",
       "      <td>0</td>\n",
       "      <td>1</td>\n",
       "      <td>0</td>\n",
       "      <td>0</td>\n",
       "    </tr>\n",
       "  </tbody>\n",
       "</table>\n",
       "</div>"
      ],
      "text/plain": [
       "     row_id incident_date player_name player_country team_country  player_age  \\\n",
       "224     225    2021-09-04        Jens        Belgium  Netherlands        27.0   \n",
       "225     226    2021-09-25   Guillermo      Venezuela    Venezuela        31.0   \n",
       "226     227    2021-10-01       Bruno        Germany      Germany        15.0   \n",
       "227     228    2021-10-08      Benoît         France       France        49.0   \n",
       "228     229    2021-10-15  Christophe         France       France        54.0   \n",
       "\n",
       "          player_team_name                               incident_description  \\\n",
       "224           FCC Filosoof  Drama on Dutch football field, amateur player ...   \n",
       "225            Camaguán FC  In the quarterfinals of the third division tou...   \n",
       "226  FC An der Fahner Höhe  Young goalkeeper and amateur angler Bruno Stei...   \n",
       "227              SC Massay  With  minutes to go before the end of the game...   \n",
       "228          AS Saint Yves  Christophe Ramassamy, a -year-old footballer, ...   \n",
       "\n",
       "     heart_related  cardiac_related  collapsed  lightning  collision  \n",
       "224              0                0          1          0          0  \n",
       "225              0                1          1          0          0  \n",
       "226              0                0          0          0          0  \n",
       "227              0                0          1          0          0  \n",
       "228              1                0          1          0          0  "
      ]
     },
     "execution_count": 27,
     "metadata": {},
     "output_type": "execute_result"
    }
   ],
   "source": [
    "df.tail()"
   ]
  },
  {
   "cell_type": "code",
   "execution_count": null,
   "id": "7bc1476d",
   "metadata": {},
   "outputs": [],
   "source": []
  },
  {
   "cell_type": "code",
   "execution_count": 25,
   "id": "d0b2f419",
   "metadata": {},
   "outputs": [],
   "source": [
    "import pandas as pd\n",
    "import numpy as np\n",
    "df['player_name'] = df.player_name.str.split(\" \").map(lambda x: x[0])"
   ]
  },
  {
   "cell_type": "code",
   "execution_count": 26,
   "id": "8c46e260",
   "metadata": {},
   "outputs": [
    {
     "data": {
      "text/plain": [
       "0         William\n",
       "1           James\n",
       "2            John\n",
       "3          Walter\n",
       "4           Teddy\n",
       "          ...    \n",
       "224          Jens\n",
       "225     Guillermo\n",
       "226         Bruno\n",
       "227        Benoît\n",
       "228    Christophe\n",
       "Name: player_name, Length: 229, dtype: object"
      ]
     },
     "execution_count": 26,
     "metadata": {},
     "output_type": "execute_result"
    }
   ],
   "source": [
    "df['player_name']"
   ]
  },
  {
   "cell_type": "code",
   "execution_count": null,
   "id": "0b8eaac7",
   "metadata": {},
   "outputs": [],
   "source": []
  }
 ],
 "metadata": {
  "kernelspec": {
   "display_name": "Python 3 (ipykernel)",
   "language": "python",
   "name": "python3"
  },
  "language_info": {
   "codemirror_mode": {
    "name": "ipython",
    "version": 3
   },
   "file_extension": ".py",
   "mimetype": "text/x-python",
   "name": "python",
   "nbconvert_exporter": "python",
   "pygments_lexer": "ipython3",
   "version": "3.9.13"
  }
 },
 "nbformat": 4,
 "nbformat_minor": 5
}
